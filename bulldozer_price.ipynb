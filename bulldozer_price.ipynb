{
 "cells": [
  {
   "cell_type": "code",
   "execution_count": null,
   "metadata": {},
   "outputs": [],
   "source": [
    "import pandas as pd\n",
    "import numpy as np\n",
    "import matplotlib.pyplot as plt\n",
    "from sklearn.ensemble import RandomForestRegressor\n",
    "import warnings\n",
    "\n",
    "warnings.filterwarnings(\"ignore\")"
   ]
  },
  {
   "cell_type": "code",
   "execution_count": null,
   "metadata": {},
   "outputs": [],
   "source": [
    "df = pd.read_csv(\"assets\\\\trainandvalid.csv\", low_memory=False, parse_dates=[\"saledate\"]) \n",
    "df_tmp = df.copy()\n",
    "df_tmp.sort_values(by=[\"saledate\"], inplace=True, ascending=True)"
   ]
  },
  {
   "cell_type": "code",
   "execution_count": null,
   "metadata": {},
   "outputs": [],
   "source": [
    "df.info()"
   ]
  },
  {
   "cell_type": "code",
   "execution_count": null,
   "metadata": {},
   "outputs": [],
   "source": [
    "df.isna().sum()"
   ]
  },
  {
   "cell_type": "code",
   "execution_count": null,
   "metadata": {},
   "outputs": [],
   "source": [
    "fig, ax = plt.subplots()\n",
    "ax.scatter(df[\"saledate\"][:1000],df[\"SalePrice\"][:1000])"
   ]
  },
  {
   "cell_type": "code",
   "execution_count": null,
   "metadata": {},
   "outputs": [],
   "source": [
    "df_tmp[\"saleYear\"] = df_tmp[\"saledate\"].dt.year\n",
    "df_tmp[\"saleMonth\"] = df_tmp[\"saledate\"].dt.month\n",
    "df_tmp[\"saleDay\"] = df_tmp[\"saledate\"].dt.day\n",
    "df_tmp[\"saleDayOfWeek\"] = df_tmp[\"saledate\"].dt.dayofweek\n",
    "df_tmp[\"saleDayOfYear\"] = df_tmp[\"saledate\"].dt.dayofyear"
   ]
  },
  {
   "cell_type": "code",
   "execution_count": null,
   "metadata": {},
   "outputs": [],
   "source": [
    "df_tmp.drop(\"saledate\", axis=1, inplace=True)"
   ]
  },
  {
   "cell_type": "code",
   "execution_count": null,
   "metadata": {},
   "outputs": [],
   "source": [
    "for col in df_tmp.columns:\n",
    "    if pd.api.types.is_object_dtype(df_tmp[col]):\n",
    "        df_tmp[col] = df_tmp[col].astype(\"category\")"
   ]
  },
  {
   "cell_type": "code",
   "execution_count": null,
   "metadata": {},
   "outputs": [],
   "source": [
    "df_train = df_tmp[df_tmp[\"saleYear\"] != 2012]\n",
    "df_valid = df_tmp[df_tmp[\"saleYear\"] == 2012]"
   ]
  },
  {
   "cell_type": "code",
   "execution_count": null,
   "metadata": {},
   "outputs": [],
   "source": [
    "for col in df_train.columns:\n",
    "    if pd.api.types.is_categorical_dtype(df_train[col]):\n",
    "        df_train[col] = df_train[col].cat.codes +1\n",
    "\n",
    "for col in df_valid.columns:\n",
    "    if pd.api.types.is_categorical_dtype(df_valid[col]):\n",
    "        df_valid[col] = df_valid[col].cat.codes +1"
   ]
  },
  {
   "cell_type": "code",
   "execution_count": null,
   "metadata": {},
   "outputs": [],
   "source": [
    "for col in df_train.columns:\n",
    "    if not pd.api.types.is_categorical_dtype(df_train[col]) and df_train[col].isna().sum() > 0:\n",
    "        df_train[col] = df_train[col].fillna(df_train[col].median())\n",
    "\n",
    "for col in df_valid.columns:\n",
    "    if not pd.api.types.is_categorical_dtype(df_valid[col]) and df_valid[col].isna().sum() > 0:\n",
    "        df_valid[col] = df_valid[col].fillna(df_valid[col].median())"
   ]
  },
  {
   "cell_type": "code",
   "execution_count": null,
   "metadata": {},
   "outputs": [],
   "source": [
    "X_train, y_train = df_train.drop(\"SalePrice\", axis=1), df_train[\"SalePrice\"]\n",
    "X_valid, y_valid = df_valid.drop(\"SalePrice\", axis=1), df_valid[\"SalePrice\"]"
   ]
  },
  {
   "cell_type": "code",
   "execution_count": null,
   "metadata": {},
   "outputs": [],
   "source": [
    "from sklearn.metrics import mean_squared_log_error, mean_absolute_error\n",
    "\n",
    "def rmsle(y_test, y_preds):\n",
    "    return np.sqrt(mean_squared_log_error(y_test, y_preds))\n",
    "\n",
    "def show_scores(model):\n",
    "    train_preds = model.predict(X_train)\n",
    "    val_preds = model.predict(X_valid)\n",
    "    scores = {\"Training MAE\": mean_absolute_error(y_train, train_preds),\n",
    "              \"Valid MAE\": mean_absolute_error(y_valid, val_preds),\n",
    "              \"Training RMSLE\": rmsle(y_train, train_preds),\n",
    "              \"Valid RMSLE\": rmsle(y_valid, val_preds),\n",
    "              \"Training R^2\": model.score(X_train, y_train),\n",
    "              \"Valid R^2\": model.score(X_valid, y_valid)}\n",
    "    return scores"
   ]
  },
  {
   "cell_type": "code",
   "execution_count": null,
   "metadata": {},
   "outputs": [],
   "source": [
    "from sklearn.model_selection import RandomizedSearchCV\n",
    "\n",
    "rf_grid = {\"n_estimators\": np.arange(10, 100, 10),\n",
    "           \"max_depth\": [None, 3, 5, 10],\n",
    "           \"min_samples_split\": np.arange(2, 20, 2),\n",
    "           \"min_samples_leaf\": np.arange(1, 20, 2),\n",
    "           \"max_features\": [0.5, 1.0, \"sqrt\"],\n",
    "           \"max_samples\": [10000]}\n",
    "\n",
    "rs_model = RandomizedSearchCV(RandomForestRegressor(random_state=42),\n",
    "                              param_distributions=rf_grid,\n",
    "                              n_iter=20,\n",
    "                              cv=5,\n",
    "                              verbose=True)\n",
    "\n",
    "rs_model.fit(X_train, y_train)"
   ]
  },
  {
   "cell_type": "code",
   "execution_count": null,
   "metadata": {},
   "outputs": [],
   "source": [
    "rs_model_best = RandomForestRegressor(random_state=42, n_estimators=90, min_samples_leaf=1, min_samples_split=14, max_features=0.5, max_samples=None)\n",
    "rs_model_best.fit(X_train, y_train)"
   ]
  },
  {
   "cell_type": "code",
   "execution_count": null,
   "metadata": {},
   "outputs": [],
   "source": [
    "show_scores(rs_model_best)"
   ]
  },
  {
   "cell_type": "code",
   "execution_count": null,
   "metadata": {},
   "outputs": [],
   "source": [
    "df_test = pd.read_csv(\"assets\\\\test.csv\", parse_dates=[\"saledate\"])\n",
    "\n",
    "df_test[\"saleYear\"] = df_test[\"saledate\"].dt.year\n",
    "df_test[\"saleMonth\"] = df_test[\"saledate\"].dt.month\n",
    "df_test[\"saleDay\"] = df_test[\"saledate\"].dt.day\n",
    "df_test[\"saleDayOfWeek\"] = df_test[\"saledate\"].dt.dayofweek\n",
    "df_test[\"saleDayOfYear\"] = df_test[\"saledate\"].dt.dayofyear\n",
    "\n",
    "df_test.drop(\"saledate\", axis=1, inplace=True)"
   ]
  },
  {
   "cell_type": "code",
   "execution_count": null,
   "metadata": {},
   "outputs": [],
   "source": [
    "for col in df_test.columns:\n",
    "    if pd.api.types.is_object_dtype(df_test[col]):\n",
    "        df_test[col] = df_test[col].astype(\"category\")"
   ]
  },
  {
   "cell_type": "code",
   "execution_count": null,
   "metadata": {},
   "outputs": [],
   "source": [
    "for col in df_test.columns:\n",
    "    if pd.api.types.is_categorical_dtype(df_test[col]):\n",
    "        df_test[col] = df_test[col].cat.codes +1"
   ]
  },
  {
   "cell_type": "code",
   "execution_count": null,
   "metadata": {},
   "outputs": [],
   "source": [
    "for col in df_test.columns:\n",
    "    if not pd.api.types.is_categorical_dtype(df_test[col]) and df_test[col].isna().sum() > 0:\n",
    "        df_test[col] = df_test[col].fillna(df_test[col].median())"
   ]
  },
  {
   "cell_type": "code",
   "execution_count": null,
   "metadata": {},
   "outputs": [],
   "source": [
    "rs_model_best.predict(df_test)"
   ]
  },
  {
   "cell_type": "code",
   "execution_count": null,
   "metadata": {},
   "outputs": [],
   "source": [
    "import seaborn as sns\n",
    "\n",
    "def plot_features(columns, importances, n=20):\n",
    "    df = (pd.DataFrame({\"features\": columns, \"feature_importance\": importances}).sort_values(\"feature_importance\", ascending=False).reset_index(drop=True))\n",
    "    \n",
    "    sns.barplot(x=\"feature_importance\", y=\"features\", data=df[:n])"
   ]
  },
  {
   "cell_type": "code",
   "execution_count": null,
   "metadata": {},
   "outputs": [],
   "source": [
    "plot_features(X_train.columns, rs_model_best.feature_importances_)"
   ]
  }
 ],
 "metadata": {
  "kernelspec": {
   "display_name": "Python 3",
   "language": "python",
   "name": "python3"
  },
  "language_info": {
   "codemirror_mode": {
    "name": "ipython",
    "version": 3
   },
   "file_extension": ".py",
   "mimetype": "text/x-python",
   "name": "python",
   "nbconvert_exporter": "python",
   "pygments_lexer": "ipython3",
   "version": "3.12.4"
  }
 },
 "nbformat": 4,
 "nbformat_minor": 2
}
